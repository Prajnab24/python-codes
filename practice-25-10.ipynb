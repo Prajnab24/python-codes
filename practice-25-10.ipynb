{
 "cells": [
  {
   "cell_type": "markdown",
   "metadata": {},
   "source": [
    "# CodeChef -- Easy Coding questions"
   ]
  },
  {
   "cell_type": "markdown",
   "metadata": {},
   "source": [
    "### Question 1"
   ]
  },
  {
   "cell_type": "code",
   "execution_count": 11,
   "metadata": {},
   "outputs": [
    {
     "name": "stdout",
     "output_type": "stream",
     "text": [
      "1\n"
     ]
    }
   ],
   "source": [
    "\"\"\"\n",
    "Count the number of reamining normal days from the given cloudy and rainy days to the weather prediction center\n",
    "\"\"\"\n",
    "rainyDays,cloudyDays=map(int,input(\"Enter days\").split())\n",
    "print(7-rainyDays-cloudyDays)"
   ]
  },
  {
   "cell_type": "markdown",
   "metadata": {},
   "source": [
    "### Question 2"
   ]
  },
  {
   "cell_type": "code",
   "execution_count": 5,
   "metadata": {},
   "outputs": [
    {
     "name": "stdout",
     "output_type": "stream",
     "text": [
      "8\n"
     ]
    }
   ],
   "source": [
    "print(int(input())*2)"
   ]
  },
  {
   "cell_type": "markdown",
   "metadata": {},
   "source": [
    "### Question 3"
   ]
  },
  {
   "cell_type": "code",
   "execution_count": 6,
   "metadata": {},
   "outputs": [
    {
     "name": "stdout",
     "output_type": "stream",
     "text": [
      "2\n",
      "3\n",
      "1\n"
     ]
    }
   ],
   "source": [
    "\"\"\"Saving Taxes\n",
    "\n",
    "In Chefland, everyone who earns strictly more than YY rupees per year, has to pay a tax to Chef. Chef has allowed a special scheme where you can invest any amount of money and claim exemption for it.\n",
    "\n",
    "You have earned XX (X>Y)(X>Y) rupees this year. Find the minimum amount of money you have to invest so that you don't have to pay taxes this year.\n",
    "Input Format\n",
    "\n",
    "    The first line of input will contain a single integer TT, denoting the number of test cases.\n",
    "    Each test case consists of a single line of input consisting of two space separated integers XX and YY denoting the amount you earned and the amount above which you will have to pay taxes.\n",
    "\n",
    "\"\"\"\n",
    "for i in range(int(input())):\n",
    "    earnings,tax=map(int,input().split())\n",
    "    print(earnings-tax)"
   ]
  },
  {
   "cell_type": "markdown",
   "metadata": {},
   "source": [
    "### Question 4"
   ]
  },
  {
   "cell_type": "code",
   "execution_count": 8,
   "metadata": {},
   "outputs": [
    {
     "name": "stdout",
     "output_type": "stream",
     "text": [
      "NO\n",
      "YES\n",
      "YES\n",
      "YES\n"
     ]
    }
   ],
   "source": [
    "\"\"\"\n",
    "\n",
    "Chef has been working hard to compete in MasterChef.\n",
    "He is ranked XX out of all contestants. However, only 1010 contestants would be selected for the finals.\n",
    "\n",
    "Check whether Chef made it to the top 1010 or not?\n",
    "\"\"\"\n",
    "for i in range(int(input())):\n",
    "    if int(input())<=10:\n",
    "        print(\"YES\")\n",
    "    else:\n",
    "        print(\"NO\")"
   ]
  },
  {
   "cell_type": "markdown",
   "metadata": {},
   "source": [
    "### Question 5\n"
   ]
  },
  {
   "cell_type": "code",
   "execution_count": null,
   "metadata": {},
   "outputs": [],
   "source": [
    "\"\"\"Question \n",
    "According to a recent survey, Biryani is the most ordered food. Chef wants to learn how to make world-class Biryani from a MasterChef. \n",
    "Chef will be required to attend the MasterChef's classes for XX weeks, and the cost of classes per week is YY coins. What is the total amount of money that \n",
    "Chef will have to pay?\n",
    "\"\"\"\n",
    "\n",
    "for i in range(int(input())):\n",
    "    a,b=map(int,input().split())\n",
    "    print(a*b)"
   ]
  },
  {
   "cell_type": "markdown",
   "metadata": {},
   "source": [
    "### Question 6"
   ]
  },
  {
   "cell_type": "code",
   "execution_count": 9,
   "metadata": {},
   "outputs": [
    {
     "name": "stdout",
     "output_type": "stream",
     "text": [
      "YES\n",
      "NO\n",
      "NO\n",
      "NO\n"
     ]
    }
   ],
   "source": [
    "\n",
    "\"\"\" \n",
    "Chef is playing Ludo. According to the rules of Ludo, a player can enter a new token into the play only when he rolls a 66 on the die.\n",
    "In the current turn, Chef rolled the number XX on the die. Determine if Chef can enter a new token into the play in the current turn or not.\n",
    "\"\"\"\n",
    "for i in range(int(input())):\n",
    "    if(input()==\"6\"):\n",
    "        print(\"YES\")\n",
    "    else:\n",
    "        print(\"NO\")"
   ]
  },
  {
   "cell_type": "markdown",
   "metadata": {},
   "source": [
    "### Question 7"
   ]
  },
  {
   "cell_type": "code",
   "execution_count": 12,
   "metadata": {},
   "outputs": [
    {
     "name": "stdout",
     "output_type": "stream",
     "text": [
      "46\n"
     ]
    }
   ],
   "source": [
    "\"\"\" \n",
    "The first and only line of input contains two space-separated integers XX and YY — the count of 'All problems' in the Beginner's section and the count of\n",
    " Chef's 'Attempted' problems, respectively.\"\"\"\n",
    "allProblems,attempted=map(int,input().split())\n",
    "print(allProblems-attempted)"
   ]
  },
  {
   "cell_type": "markdown",
   "metadata": {},
   "source": [
    "### Question 8"
   ]
  },
  {
   "cell_type": "code",
   "execution_count": null,
   "metadata": {},
   "outputs": [],
   "source": [
    "\"\"\" Chef appeared for a placement test.\n",
    "\n",
    "There is a problem worth XX points. Chef finds out that the problem has exactly 1010 test cases. It is known that each test case is worth the same number of points.\n",
    "\n",
    "Chef passes NN test cases among them. Determine the score Chef will get.\"\"\"\n",
    "for i in range(int(input())):\n",
    "    totalpoint,passedtestcase=map(int,input().split())\n",
    "    totaltestcase=10\n",
    "    pointspertestcase=totalpoint/totaltestcase\n",
    "    print(int(pointspertestcase*passedtestcase))"
   ]
  },
  {
   "cell_type": "markdown",
   "metadata": {},
   "source": [
    "### Question 9"
   ]
  },
  {
   "cell_type": "code",
   "execution_count": null,
   "metadata": {},
   "outputs": [],
   "source": [
    "\"\"\"\n",
    "Chef's website has a specific response mechanism based on the HTTP status code received:\n",
    "\n",
    "    If the response code is 404404, the website will return NOT FOUND.\n",
    "    For any other response code different from 404404, the website will return FOUND.\n",
    "\n",
    "\"\"\"\n",
    "\n",
    "code=int(input())\n",
    "print(\"FOUND\") if code!=404  else print(\"NOT FOUND\")"
   ]
  },
  {
   "cell_type": "markdown",
   "metadata": {},
   "source": [
    "### Question 10"
   ]
  },
  {
   "cell_type": "code",
   "execution_count": null,
   "metadata": {},
   "outputs": [],
   "source": [
    "\"\"\" \n",
    "You just bought a new calculator, but it seems to have a small problem: all its results have an extra 11 appended to the end.\n",
    "For example, if you ask it for 3 + 5, it'll print 81, and 4 + 12 will result in 161.\n",
    "\n",
    "Given AA and BB, can you predict what the calculator will print when you ask it for A+BA+B?\n",
    "\"\"\"\n",
    "\n",
    "a, b,  = map(int, input().split())  \n",
    "print(str(a+b)+\"1\")"
   ]
  },
  {
   "cell_type": "markdown",
   "metadata": {},
   "source": [
    "## ChatGPT Practice question"
   ]
  },
  {
   "cell_type": "markdown",
   "metadata": {},
   "source": [
    "### Question 1"
   ]
  },
  {
   "cell_type": "code",
   "execution_count": 2,
   "metadata": {},
   "outputs": [
    {
     "name": "stdout",
     "output_type": "stream",
     "text": [
      "11\n",
      " ️❤ uoy knahT !!!uoy evol I!!punA iH\n"
     ]
    }
   ],
   "source": [
    "\"\"\"\n",
    "Count vowels in the given string  and return reverse of the string\n",
    "\"\"\"\n",
    "\n",
    "def countVowels(line):\n",
    "    line=line.lower()\n",
    "    vowel=['a','e','i','o','u']\n",
    "    count=0\n",
    "    for vo in vowel:\n",
    "        count+=line.count(vo)\n",
    "    return count\n",
    "\n",
    "print(countVowels(\"Hi Anup!!I love you!!! Thank you ❤️\"))    \n",
    "    \n",
    "    \n",
    "def reverse_string(line):\n",
    "    return  line[::-1]\n",
    "    \n",
    "print(reverse_string(\"Hi Anup!!I love you!!! Thank you ❤️ \"))"
   ]
  },
  {
   "cell_type": "markdown",
   "metadata": {},
   "source": [
    "### Question 2"
   ]
  },
  {
   "cell_type": "code",
   "execution_count": 3,
   "metadata": {},
   "outputs": [
    {
     "name": "stdout",
     "output_type": "stream",
     "text": [
      "1\n",
      "2\n",
      "Fizz\n",
      "4\n",
      "Buzz\n",
      "Fizz\n",
      "7\n",
      "8\n",
      "Fizz\n",
      "Buzz\n",
      "11\n",
      "Fizz\n",
      "13\n",
      "14\n",
      "FizzBuzz\n",
      "16\n",
      "17\n",
      "Fizz\n",
      "19\n",
      "Buzz\n",
      "Fizz\n",
      "22\n",
      "23\n",
      "Fizz\n",
      "Buzz\n",
      "26\n",
      "Fizz\n",
      "28\n",
      "29\n",
      "FizzBuzz\n",
      "31\n",
      "32\n",
      "Fizz\n",
      "34\n",
      "Buzz\n",
      "Fizz\n",
      "37\n",
      "38\n",
      "Fizz\n",
      "Buzz\n",
      "41\n",
      "Fizz\n",
      "43\n",
      "44\n",
      "FizzBuzz\n",
      "46\n",
      "47\n",
      "Fizz\n",
      "49\n",
      "Buzz\n",
      "Fizz\n",
      "52\n",
      "53\n",
      "Fizz\n",
      "Buzz\n",
      "56\n",
      "Fizz\n",
      "58\n",
      "59\n",
      "FizzBuzz\n",
      "61\n",
      "62\n",
      "Fizz\n",
      "64\n",
      "Buzz\n",
      "Fizz\n",
      "67\n",
      "68\n",
      "Fizz\n",
      "Buzz\n",
      "71\n",
      "Fizz\n",
      "73\n",
      "74\n",
      "FizzBuzz\n",
      "76\n",
      "77\n",
      "Fizz\n",
      "79\n",
      "Buzz\n",
      "Fizz\n",
      "82\n",
      "83\n",
      "Fizz\n",
      "Buzz\n",
      "86\n",
      "Fizz\n",
      "88\n",
      "89\n",
      "FizzBuzz\n",
      "91\n",
      "92\n",
      "Fizz\n",
      "94\n",
      "Buzz\n",
      "Fizz\n",
      "97\n",
      "98\n",
      "Fizz\n",
      "Buzz\n"
     ]
    }
   ],
   "source": [
    "\"\"\"\n",
    "Write a code to print Fizz for multiple of 3 and Buzz for multiple of 5 and numbers for other condition\n",
    "\"\"\"\n",
    "def Fizz(n):\n",
    "    for x in range(1,n+1):\n",
    "        if x%3==0:\n",
    "            if x%5==0:\n",
    "                print(\"FizzBuzz\")\n",
    "            else:\n",
    "                print(\"Fizz\")\n",
    "        elif x%5==0:\n",
    "            print(\"Buzz\")\n",
    "        else:\n",
    "            print(x)\n",
    "        \n",
    "Fizz(500) "
   ]
  },
  {
   "cell_type": "markdown",
   "metadata": {},
   "source": [
    "### Question 3"
   ]
  },
  {
   "cell_type": "code",
   "execution_count": 4,
   "metadata": {},
   "outputs": [
    {
     "name": "stdout",
     "output_type": "stream",
     "text": [
      "ablewasiereisawelba -- ablewasiereisawelba\n",
      "Is plaindrom\n"
     ]
    }
   ],
   "source": [
    "\"\"\"\n",
    "Palindrom check\n",
    "A man, a plan, a canal: Panama\n",
    "\"\"\"\n",
    "sen=\"Able was I ere I saw Elba.\"\n",
    "\n",
    "def removepunc(sen):\n",
    "    common_punctuations=[',',':','?','!','\"','.',\"'\",\";\",'’']\n",
    "    for x in common_punctuations:\n",
    "        if x in sen:\n",
    "            sen=sen.replace(x,\"\")\n",
    "    return sen\n",
    "\n",
    "def convertsentense(sen):\n",
    "    sen=sen.lower()\n",
    "    words=sen.split()\n",
    "    sen=\"\".join(words)\n",
    "    sen2=removepunc(sen)\n",
    "    revsen=sen2[::-1]\n",
    "    print(revsen,\"--\",sen2)\n",
    "    if revsen==sen2:\n",
    "        print(\"Is plaindrom\")\n",
    "    else:\n",
    "        print(\"Not a palindrom\")\n",
    "\n",
    "\n",
    "convertsentense(sen)    "
   ]
  },
  {
   "cell_type": "markdown",
   "metadata": {},
   "source": [
    "### Question 4\n"
   ]
  },
  {
   "cell_type": "code",
   "execution_count": 5,
   "metadata": {},
   "outputs": [
    {
     "name": "stdout",
     "output_type": "stream",
     "text": [
      "45\n",
      "45\n"
     ]
    }
   ],
   "source": [
    "\"\"\" \n",
    "find second heighest element in array\n",
    "\"\"\"\n",
    "x=[10, 20, 4, 45, 99]\n",
    "x.sort()\n",
    "print(x[-2])\n",
    "\n",
    "second_largest = lambda numbers: sorted(set(numbers))[-2] if len(set(numbers)) > 1 else None\n",
    "print(second_largest([10, 20, 4, 45, 99]))"
   ]
  },
  {
   "cell_type": "markdown",
   "metadata": {},
   "source": [
    "### Question 5"
   ]
  },
  {
   "cell_type": "code",
   "execution_count": 6,
   "metadata": {},
   "outputs": [
    {
     "name": "stdout",
     "output_type": "stream",
     "text": [
      "[2, 5]\n",
      "[2, 5]\n"
     ]
    }
   ],
   "source": [
    "\"\"\" \n",
    "Return the dups from the list\n",
    "\"\"\"\n",
    "originalList=[1,2,3,2,4,5,6,5]\n",
    "nodups=list(set(originalList))\n",
    "dups=[]\n",
    "for x in nodups:\n",
    "    if originalList.count(x)>1:\n",
    "        dups.append(x)\n",
    "print(dups)\n",
    "dups=[]\n",
    "originalList.sort()\n",
    "for i in range(len(originalList)-1):\n",
    "    if originalList[i] == originalList[i+1]:\n",
    "        dups.append(originalList[i])\n",
    "        \n",
    "print(dups)"
   ]
  },
  {
   "cell_type": "markdown",
   "metadata": {},
   "source": [
    "### Question 6"
   ]
  },
  {
   "cell_type": "code",
   "execution_count": 9,
   "metadata": {},
   "outputs": [
    {
     "name": "stdout",
     "output_type": "stream",
     "text": [
      "brown\n"
     ]
    }
   ],
   "source": [
    "sentense=\"The quic brown fox jumps over the lazy dog\"\n",
    "wordList=sentense.split()\n",
    "wordLength=[]\n",
    "for x in wordList:\n",
    "    wordLength.append(len(x))\n",
    "#print(wordList)\n",
    "#print(wordLength)\n",
    "maxWordLength=max(wordLength)\n",
    "indexofmaxwordlength=wordLength.index(maxWordLength)\n",
    "#print(indexofmaxwordlength)\n",
    "print(wordList[indexofmaxwordlength])\n"
   ]
  },
  {
   "cell_type": "markdown",
   "metadata": {},
   "source": [
    "### Question 7"
   ]
  },
  {
   "cell_type": "code",
   "execution_count": 8,
   "metadata": {},
   "outputs": [
    {
     "name": "stdout",
     "output_type": "stream",
     "text": [
      "10\n"
     ]
    }
   ],
   "source": [
    "\"\"\"\n",
    "Find the sum of didgits in the given integer\n",
    "\"\"\"\n",
    "\n",
    "def sum_of_digits(num):\n",
    "    sum=0\n",
    "    for x in (str(num)):\n",
    "        sum+=int(x)\n",
    "    return sum\n",
    "    \n",
    "    \n",
    "print(sum_of_digits(1234))\n"
   ]
  },
  {
   "cell_type": "markdown",
   "metadata": {},
   "source": [
    "### Question 8"
   ]
  },
  {
   "cell_type": "code",
   "execution_count": 17,
   "metadata": {},
   "outputs": [
    {
     "name": "stdout",
     "output_type": "stream",
     "text": [
      "Given Line is poorna and prajna\n",
      " non repeating first char d\n"
     ]
    }
   ],
   "source": [
    "\"\"\"  \n",
    "First non repeating\n",
    "\"\"\"\n",
    "def firstNonRepaetingChar(line):\n",
    "    print(f\"Given Line is {line}\")\n",
    "    elem=\"None\"\n",
    "    for x in line:\n",
    "        if line.count(x)==1:\n",
    "            elem=x\n",
    "            break\n",
    "    return elem\n",
    "\n",
    "print(f\"non repeating first char {firstNonRepaetingChar(input())}\")"
   ]
  },
  {
   "cell_type": "markdown",
   "metadata": {},
   "source": [
    "### Question 9"
   ]
  },
  {
   "cell_type": "code",
   "execution_count": 29,
   "metadata": {},
   "outputs": [
    {
     "name": "stdout",
     "output_type": "stream",
     "text": [
      "3\n"
     ]
    }
   ],
   "source": [
    "\"\"\" Missing number in sequence\"\"\"\n",
    "\n",
    "def findMissingNumber(sequenceList):\n",
    "    comparisonlist=[]\n",
    "    for i in range(sequenceList[0],sequenceList[(len(sequenceList)-1)]+1):\n",
    "        comparisonlist.append(i)\n",
    "    for i in range(len(sequenceList)):\n",
    "        if comparisonlist[i]!=sequenceList[i]:\n",
    "            msssingNumber=comparisonlist[i]\n",
    "            return msssingNumber\n",
    "        \n",
    "\n",
    "\n",
    "print(findMissingNumber([0,1,2,4,5]))"
   ]
  }
 ],
 "metadata": {
  "kernelspec": {
   "display_name": "Python 3",
   "language": "python",
   "name": "python3"
  },
  "language_info": {
   "codemirror_mode": {
    "name": "ipython",
    "version": 3
   },
   "file_extension": ".py",
   "mimetype": "text/x-python",
   "name": "python",
   "nbconvert_exporter": "python",
   "pygments_lexer": "ipython3",
   "version": "3.12.2"
  }
 },
 "nbformat": 4,
 "nbformat_minor": 2
}
